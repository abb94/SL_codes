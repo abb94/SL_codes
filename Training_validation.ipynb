{
 "cells": [
  {
   "cell_type": "markdown",
   "id": "c96ed973-d09f-459a-9b0b-238a26bc778a",
   "metadata": {},
   "source": [
    "# Training and validation"
   ]
  },
  {
   "cell_type": "markdown",
   "id": "156cc622-dd94-4d33-bd87-02376852565f",
   "metadata": {
    "tags": []
   },
   "source": [
    "## Training iterations"
   ]
  },
  {
   "cell_type": "code",
   "execution_count": null,
   "id": "28954c94-fd94-4c5c-98f2-7762436d0901",
   "metadata": {},
   "outputs": [],
   "source": [
    "import torch\n",
    "import torch.nn as nn\n",
    "import torch.optim as optim\n",
    "import matplotlib.pyplot as plt\n",
    "from sklearn.metrics import roc_auc_score, confusion_matrix\n",
    "from torch.utils.data import DataLoader\n",
    "from efficientnet_pytorch import EfficientNet\n",
    "from torchvision.transforms import transforms\n",
    "import matplotlib.pyplot as plt\n",
    "# set seed for reproducibility\n",
    "torch.manual_seed(1234)\n",
    "from sklearn.metrics import roc_auc_score, confusion_matrix\n",
    "directory = 'C:/Users/Bruss/Desktop/Speciale/models'\n",
    "\n",
    "\n",
    "# Define training parameters\n",
    "batch_size = 26\n",
    "#9 epochs\n",
    "\n",
    "#EFFECIENTNET WITH LANDMARKS: 7 EPOCHS - LOWEST LOSS SECOND HIGHEST VAL lr = 0.0001 /TRAINED ON FOR 20\n",
    "#EFFECIENTNET WITHOUT LANDMARKS: 10 EPOCHS - LOWEST LOSS SECOND HIGHEST VAL lr = 0.0005 /TRAIN ON FOR 20 #EPOCH 5 BEST YESTERDAY\n",
    "num_epochs = 20\n",
    "learning_rate = 0.0005\n",
    "\n",
    "\n",
    "# Instantiate the model and optimizer\n",
    "model = ResNetWithLSTM(num_classes=5)\n",
    "device = torch.device(\"cuda:0\" if torch.cuda.is_available() else \"cpu\")\n",
    "model.to(device)\n",
    "optimizer = optim.Adam(model.parameters(), lr=learning_rate)\n",
    "criterion = nn.CrossEntropyLoss()\n",
    "\n",
    "# Training loop\n",
    "train_loss_list, val_loss_list = [], []\n",
    "train_acc_list, val_acc_list = [], []\n",
    "val_auc_list = []\n",
    "\n",
    "train_loss_list_graph, val_loss_list_graph = [], []\n",
    "train_acc_list_graph, val_acc_list_graph = [], []\n",
    "\n",
    "for epoch in range(num_epochs):\n",
    "    # Train the model\n",
    "    model.train()\n",
    "    for images, labels in train_loader:\n",
    "        images, labels = images.to(device), labels.to(device)\n",
    "        optimizer.zero_grad()\n",
    "        outputs = model(images)\n",
    "        loss = criterion(outputs, labels)\n",
    "        loss.backward()\n",
    "        optimizer.step()\n",
    "        train_loss_list.append(loss.item())\n",
    "        _, predicted = torch.max(outputs.data, 1)\n",
    "        train_acc_list.append((predicted == labels).sum().item())\n",
    "\n",
    "    # Validate the model\n",
    "    model.eval()\n",
    "    with torch.no_grad():\n",
    "        val_loss = 0.0\n",
    "        val_acc = 0.0\n",
    "        val_auc = 0.0\n",
    "        all_labels = []\n",
    "        all_predictions = []\n",
    "        for images, labels in val_loader:\n",
    "            images, labels = images.to(device), labels.to(device)\n",
    "            outputs = model(images)\n",
    "            loss = criterion(outputs, labels)\n",
    "            val_loss_list.append(loss.item())\n",
    "            _, predicted = torch.max(outputs.data, 1)\n",
    "            val_acc_list.append((predicted == labels).sum().item())\n",
    "            all_labels.extend(labels.tolist())\n",
    "            all_predictions.extend(predicted.tolist())\n",
    "\n",
    "    # Print the results for this epoch\n",
    "    print(f\"Epoch [{epoch+1}/{num_epochs}], \"\n",
    "          f\"Train Loss: {train_loss_list[-1]:.4f}, \"\n",
    "          f\"Train Acc: {train_acc_list[-1]/len(train_loader.dataset)*10000:.2f}%, \"\n",
    "          f\"Val Loss: {val_loss_list[-1]:.4f}, \"\n",
    "          f\"Val Acc: {val_acc_list[-1]/len(val_loader.dataset)*100:.2f}%, \")\n",
    "    train_loss_list_graph.append(train_loss_list[-1])\n",
    "    val_loss_list_graph.append(val_loss_list[-1])\n",
    "    train_acc_list_graph.append(train_acc_list[-1]/len(train_loader.dataset)*10000)\n",
    "    val_acc_list_graph.append(val_acc_list[-1]/len(val_loader.dataset)*100)\n",
    "    \n",
    "   "
   ]
  },
  {
   "cell_type": "markdown",
   "id": "3b10ee72-ff75-42a9-85a8-980a5e9f1155",
   "metadata": {},
   "source": [
    "## Plots"
   ]
  },
  {
   "cell_type": "markdown",
   "id": "d38144f8-6eae-4995-ba0c-9440c227fc35",
   "metadata": {},
   "source": [
    "### Confusion Matrix"
   ]
  },
  {
   "cell_type": "code",
   "execution_count": null,
   "id": "5f1c0f6b-b781-457d-be75-1a435e7c3192",
   "metadata": {},
   "outputs": [],
   "source": [
    "# Display the confusion matrix\n",
    "conf_matrix = confusion_matrix(all_labels, all_predictions)\n",
    "fig, ax = plt.subplots(figsize=(8, 8))\n",
    "ax.imshow(conf_matrix)\n",
    "ax.set_xticks(range(len(val_loader.dataset.classes)))\n",
    "ax.set_yticks(range(len(val_loader.dataset.classes)))\n",
    "ax.set_xticklabels(val_loader.dataset.classes, rotation=90)\n",
    "ax.set_yticklabels(val_loader.dataset.classes)\n",
    "for i in range(len(val_loader.dataset.classes)):\n",
    "    for j in range(len(val_loader.dataset.classes)):\n",
    "        ax.text(j, i, conf_matrix[i, j], ha=\"center\", va=\"center\", color=\"white\")\n",
    "ax.set_title(\"Confusion Matrix\")\n",
    "plt.show()"
   ]
  },
  {
   "cell_type": "markdown",
   "id": "980fa37c-de17-4d42-92af-2fcb92710a6c",
   "metadata": {},
   "source": [
    "### Plot of Loss and Accuracy"
   ]
  },
  {
   "cell_type": "code",
   "execution_count": null,
   "id": "706a9cde-d3d3-4f98-a4c3-ddc006818a16",
   "metadata": {},
   "outputs": [],
   "source": [
    "# Set up the figure for plotting\n",
    "fig, axs = plt.subplots(1, 2, figsize=(12, 6))\n",
    "axs[0].set_title(\"Loss\")\n",
    "axs[1].set_title(\"Accuracy\")\n",
    "# Update the plots\n",
    "axs[0].plot(train_loss_list_graph, label=\"Training Loss\")\n",
    "axs[0].plot(val_loss_list_graph, label=\"Validation Loss\")\n",
    "axs[1].plot(train_acc_list_graph, label=\"Training Accuracy\")\n",
    "axs[1].plot(val_acc_list_graph, label=\"Validation Accuracy\")\n",
    "axs[1].legend()\n",
    "axs[0].legend()\n",
    "fig.canvas.draw()\n",
    "fig.show()"
   ]
  }
 ],
 "metadata": {
  "kernelspec": {
   "display_name": "Python 3 (ipykernel)",
   "language": "python",
   "name": "python3"
  },
  "language_info": {
   "codemirror_mode": {
    "name": "ipython",
    "version": 3
   },
   "file_extension": ".py",
   "mimetype": "text/x-python",
   "name": "python",
   "nbconvert_exporter": "python",
   "pygments_lexer": "ipython3",
   "version": "3.10.11"
  }
 },
 "nbformat": 4,
 "nbformat_minor": 5
}
