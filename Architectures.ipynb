{
 "cells": [
  {
   "cell_type": "markdown",
   "id": "24a3bbf3-d5e8-4408-afaf-75f83ba87ad9",
   "metadata": {},
   "source": [
    "# Architectures used for experiments: "
   ]
  },
  {
   "cell_type": "markdown",
   "id": "5ef0ebbe-e3df-4d93-ad51-5c2fbed38267",
   "metadata": {
    "tags": []
   },
   "source": [
    "## EffecientNet"
   ]
  },
  {
   "cell_type": "code",
   "execution_count": 2,
   "id": "c8f4dbee-d40e-42fe-818b-5e499f47add8",
   "metadata": {},
   "outputs": [],
   "source": [
    "import torch\n",
    "import torch.nn as nn\n",
    "import torch.optim as optim\n",
    "import torchvision.models as models\n",
    "from efficientnet_pytorch import EfficientNet\n",
    "from torchvision.transforms import transforms\n",
    "\n",
    "class EfficientNet(nn.Module):\n",
    "    def __init__(self, num_classes, hidden_size=256, num_layers=2, dropout=0.25):\n",
    "        super().__init__()\n",
    "        self.efficientnet = EfficientNet.from_pretrained('efficientnet-b0')\n",
    "        for param in self.efficientnet.parameters():\n",
    "            param.requires_grad = False\n",
    "        self.lstm = nn.LSTM(input_size=1280, hidden_size=hidden_size, num_layers=num_layers, batch_first=True, dropout=dropout, bidirectional=True)\n",
    "        self.dropout1 = nn.Dropout(dropout)\n",
    "        self.fc1 = nn.Linear(hidden_size * 2, 256)\n",
    "        self.dropout2 = nn.Dropout(dropout)\n",
    "        self.fc2 = nn.Linear(256, num_classes)\n",
    "        self.softmax = nn.Softmax(dim=1)\n",
    "        \n",
    "    def forward(self, x):\n",
    "        x = self.efficientnet.extract_features(x)\n",
    "        # Flatten the feature maps and add a batch dimension\n",
    "        x = x.flatten(start_dim=2).permute(0, 2, 1)\n",
    "        # Pass the flattened feature maps through the bidirectional LSTM layer\n",
    "        x, _ = self.lstm(x)\n",
    "        # Concatenate the outputs of the forward and backward directions and pass through the fully connected layers with dropout\n",
    "        x = self.dropout1(torch.cat((x[:, -1, :self.lstm.hidden_size], x[:, 0, self.lstm.hidden_size:]), dim=1))\n",
    "        x = self.fc1(x)\n",
    "        x = self.dropout2(x)\n",
    "        x = self.fc2(x)\n",
    "        x = self.softmax(x)\n",
    "        return x\n"
   ]
  },
  {
   "cell_type": "markdown",
   "id": "a0968031-90dd-40c8-bc21-c8c9847aad14",
   "metadata": {},
   "source": [
    "## ResNet18"
   ]
  },
  {
   "cell_type": "code",
   "execution_count": 2,
   "id": "50fc3649-f40a-4bc9-a7be-ccc99052c5f8",
   "metadata": {},
   "outputs": [],
   "source": [
    "class ResNet(nn.Module):\n",
    "    def __init__(self, num_classes, hidden_size=512, num_layers=2, bidirectional=True, dropout=0.5):\n",
    "        super(ResNetWithLSTM, self).__init__()\n",
    "\n",
    "        # Load pre-trained ResNet-18 model\n",
    "        self.resnet = models.resnet18(pretrained=True)\n",
    "\n",
    "        # Freeze all layers except for the last fully connected layer\n",
    "        for param in self.resnet.parameters():\n",
    "            param.requires_grad = False\n",
    "        self.fc1 = nn.Linear(1000, 512)\n",
    "        self.relu = nn.ReLU()\n",
    "        self.dropout1 = nn.Dropout(dropout)  \n",
    "        self.lstm = nn.LSTM(input_size=hidden_size,\n",
    "                            hidden_size=hidden_size,\n",
    "                            num_layers=num_layers,\n",
    "                            bidirectional=bidirectional,\n",
    "                            batch_first=True)\n",
    "        self.dropout2 = nn.Dropout(dropout) \n",
    "        self.relu2 = nn.ReLU()\n",
    "        self.fc2 = nn.Linear(hidden_size * 2 if bidirectional else hidden_size, num_classes)\n",
    "        self.softmax = nn.Softmax(dim=1)\n",
    "\n",
    "    def forward(self, x):\n",
    "        x = self.resnet(x)\n",
    "        x = self.fc1(x)\n",
    "        x = self.relu(x)\n",
    "        x = self.dropout1(x)  # Apply dropout after the first fully connected layer\n",
    "        x, _ = self.lstm(x)\n",
    "        x = self.dropout2(x)  # Apply dropout after the LSTM layer\n",
    "        x = self.relu2(x)\n",
    "        x = self.fc2(x)\n",
    "        x = self.softmax(x)\n",
    "        return x\n"
   ]
  },
  {
   "cell_type": "markdown",
   "id": "5e5bcb56-ff79-4ff7-a56f-ef2a30c89916",
   "metadata": {},
   "source": [
    "## MobileNet_v2"
   ]
  },
  {
   "cell_type": "code",
   "execution_count": null,
   "id": "925cf526-0526-4bf0-8894-0bce0246fc33",
   "metadata": {},
   "outputs": [],
   "source": [
    "class MobileNet(nn.Module):\n",
    "    def __init__(self, num_classes, hidden_size=256, num_layers=2, dropout=0.25):\n",
    "        super().__init__()\n",
    "        self.mobilenet = torchvision.models.mobilenet_v2(pretrained=True).features\n",
    "        for param in self.mobilenet.parameters():\n",
    "            param.requires_grad = False\n",
    "            \n",
    "        self.avgpool = nn.AdaptiveAvgPool2d((1, 1))\n",
    "        self.lstm = nn.LSTM(input_size=1280, hidden_size=hidden_size, num_layers=num_layers, batch_first=True, dropout=dropout, bidirectional=True)\n",
    "        self.dropout1 = nn.Dropout(dropout)\n",
    "        self.fc1 = nn.Linear(hidden_size * 2, 512)\n",
    "        self.dropout2 = nn.Dropout(dropout)\n",
    "        self.fc2 = nn.Linear(512, num_classes)\n",
    "        self.softmax = nn.Softmax(dim=1)\n",
    "        \n",
    "    def forward(self, x):\n",
    "        x = self.mobilenet(x)\n",
    "        x = self.avgpool(x)\n",
    "        x = torch.flatten(x, 1)\n",
    "        x = x.unsqueeze(1)\n",
    "        x = x.expand(-1, self.lstm.num_layers * 2, -1)\n",
    "        x, _ = self.lstm(x)\n",
    "        x = self.dropout1(torch.cat((x[:, -1, :self.lstm.hidden_size], x[:, 0, self.lstm.hidden_size:]), dim=1))\n",
    "        x = self.fc1(x)\n",
    "        x = self.dropout2(x)\n",
    "        x = self.fc2(x)\n",
    "        x = self.softmax(x)\n",
    "        return x\n"
   ]
  },
  {
   "cell_type": "code",
   "execution_count": null,
   "id": "552b296b-b5dc-49c7-b0e2-011de2b67d83",
   "metadata": {},
   "outputs": [],
   "source": []
  }
 ],
 "metadata": {
  "kernelspec": {
   "display_name": "Python 3 (ipykernel)",
   "language": "python",
   "name": "python3"
  },
  "language_info": {
   "codemirror_mode": {
    "name": "ipython",
    "version": 3
   },
   "file_extension": ".py",
   "mimetype": "text/x-python",
   "name": "python",
   "nbconvert_exporter": "python",
   "pygments_lexer": "ipython3",
   "version": "3.10.11"
  }
 },
 "nbformat": 4,
 "nbformat_minor": 5
}
